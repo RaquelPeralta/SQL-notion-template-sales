{
 "cells": [
  {
   "attachments": {},
   "cell_type": "markdown",
   "metadata": {},
   "source": [
    "# Script to process new sales data\n",
    "\n",
    "- Import excel with sales data;\n",
    "- Append sales data to the SQL database table;\n",
    "- Move processes excel file to processed folder."
   ]
  },
  {
   "cell_type": "code",
   "execution_count": 1,
   "metadata": {},
   "outputs": [],
   "source": [
    "# Import\n",
    "import pandas as pd\n",
    "import glob # to have dynamic file names\n",
    "import shutil # to move files\n",
    "import pyodbc # to connect to the SQL Server database\n",
    "import ctypes # to open pop up message\n",
    "import sys "
   ]
  },
  {
   "cell_type": "code",
   "execution_count": 8,
   "metadata": {},
   "outputs": [
    {
     "ename": "SystemExit",
     "evalue": "1",
     "output_type": "error",
     "traceback": [
      "An exception has occurred, use %tb to see the full traceback.\n",
      "\u001b[1;31mSystemExit\u001b[0m\u001b[1;31m:\u001b[0m 1\n"
     ]
    },
    {
     "name": "stderr",
     "output_type": "stream",
     "text": [
      "C:\\Users\\raque\\AppData\\Roaming\\Python\\Python39\\site-packages\\IPython\\core\\interactiveshell.py:3450: UserWarning: To exit: use 'exit', 'quit', or Ctrl-D.\n",
      "  warn(\"To exit: use 'exit', 'quit', or Ctrl-D.\", stacklevel=1)\n"
     ]
    }
   ],
   "source": [
    "source_folder = 'C:\\\\Users\\\\raque\\\\Documents\\\\Data Analytics\\\\SQL Notion Template Sales\\\\new_sales_data\\\\'\n",
    "file_pattern = source_folder + 'sales_*.xlsx' # Flexible file name\n",
    "\n",
    "# Check for files\n",
    "if len( glob.glob(file_pattern) ) == 0:\n",
    "\n",
    "   ctypes.windll.user32.MessageBoxW(0, \"No files to be processed. The file name must start with 'sales_' and the format must be .xlsx\",\"\", 64)\n",
    "   #exit()\n",
    "   sys.exit(1)\n",
    "\n",
    "else:\n",
    "   pass"
   ]
  },
  {
   "cell_type": "code",
   "execution_count": 4,
   "metadata": {},
   "outputs": [
    {
     "data": {
      "text/html": [
       "<div>\n",
       "<style scoped>\n",
       "    .dataframe tbody tr th:only-of-type {\n",
       "        vertical-align: middle;\n",
       "    }\n",
       "\n",
       "    .dataframe tbody tr th {\n",
       "        vertical-align: top;\n",
       "    }\n",
       "\n",
       "    .dataframe thead th {\n",
       "        text-align: right;\n",
       "    }\n",
       "</style>\n",
       "<table border=\"1\" class=\"dataframe\">\n",
       "  <thead>\n",
       "    <tr style=\"text-align: right;\">\n",
       "      <th></th>\n",
       "      <th>item_id</th>\n",
       "      <th>sale_id</th>\n",
       "      <th>product_id</th>\n",
       "      <th>client_id</th>\n",
       "      <th>date</th>\n",
       "    </tr>\n",
       "  </thead>\n",
       "  <tbody>\n",
       "    <tr>\n",
       "      <th>0</th>\n",
       "      <td>300</td>\n",
       "      <td>400</td>\n",
       "      <td>500</td>\n",
       "      <td>600</td>\n",
       "      <td>2023-03-01</td>\n",
       "    </tr>\n",
       "  </tbody>\n",
       "</table>\n",
       "</div>"
      ],
      "text/plain": [
       "   item_id  sale_id  product_id  client_id       date\n",
       "0      300      400         500        600 2023-03-01"
      ]
     },
     "execution_count": 4,
     "metadata": {},
     "output_type": "execute_result"
    }
   ],
   "source": [
    "file_path = glob.glob(file_pattern)[0] # Assumes there is only one matching file\n",
    "\n",
    "# Read excel file\n",
    "df = pd.read_excel(file_path)\n",
    "\n",
    "df = df.drop('discount', axis=1)\n",
    "\n",
    "df"
   ]
  },
  {
   "attachments": {},
   "cell_type": "markdown",
   "metadata": {},
   "source": [
    "This code uses glob.glob() to find the file path that matches the pattern of the file name. The pattern is constructed by concatenating the folder path with '*.xlsx', which matches any file name that ends with .xlsx in the specified directory. \n",
    "The glob.glob() function returns a list of file paths that match the pattern, so we assume there is only one matching file and select the first file path from the list using [0]."
   ]
  },
  {
   "cell_type": "code",
   "execution_count": 6,
   "metadata": {},
   "outputs": [
    {
     "name": "stdout",
     "output_type": "stream",
     "text": [
      "Data appended successfully.\n"
     ]
    }
   ],
   "source": [
    "server = 'DESKTOP-4A09347\\SQLEXPRESS' \n",
    "database = 'BRAINLOADING' \n",
    "table = 'sales'\n",
    "driver = '{SQL Server Native Client 11.0}'\n",
    "\n",
    "# Connect to SQL Server database\n",
    "conn = pyodbc.connect('DRIVER=' + driver + ';SERVER=' + server + ';DATABASE=' + database + ';Trusted_Connection=yes')\n",
    "\n",
    "# Create a cursor\n",
    "cursor = conn.cursor()\n",
    "\n",
    "# Define the INSERT statement\n",
    "sql = f\"INSERT INTO {table} (item_id,sale_id,product_id,client_id,date) VALUES (?, ?, ?, ?, ?)\"\n",
    "\n",
    "# Execute the INSERT statement for each row in the DataFrame\n",
    "for row in df.itertuples(index=False):\n",
    "    cursor.execute(sql, row)\n",
    "\n",
    "# Commit the changes\n",
    "conn.commit()\n",
    "\n",
    "# Close the database connection\n",
    "conn.close()\n",
    "\n",
    "print(\"Data inserted successfully.\")\n"
   ]
  },
  {
   "cell_type": "code",
   "execution_count": 7,
   "metadata": {},
   "outputs": [
    {
     "name": "stdout",
     "output_type": "stream",
     "text": [
      "File moved successfully.\n"
     ]
    },
    {
     "data": {
      "text/plain": [
       "1"
      ]
     },
     "execution_count": 7,
     "metadata": {},
     "output_type": "execute_result"
    }
   ],
   "source": [
    "new_folder = 'C:\\\\Users\\\\raque\\\\Documents\\\\Data Analytics\\\\SQL Notion Template Sales\\\\processed_sales_data\\\\'\n",
    "\n",
    "# Move excel file\n",
    "shutil.move(file_path, new_folder)\n",
    "\n",
    "print(\"File moved successfully.\")\n",
    "\n",
    "ctypes.windll.user32.MessageBoxW(0, \"Process finished successfully.\", \"\", 64)"
   ]
  },
  {
   "attachments": {},
   "cell_type": "markdown",
   "metadata": {},
   "source": [
    "Script finished."
   ]
  }
 ],
 "metadata": {
  "kernelspec": {
   "display_name": "base",
   "language": "python",
   "name": "python3"
  },
  "language_info": {
   "codemirror_mode": {
    "name": "ipython",
    "version": 3
   },
   "file_extension": ".py",
   "mimetype": "text/x-python",
   "name": "python",
   "nbconvert_exporter": "python",
   "pygments_lexer": "ipython3",
   "version": "3.9.13"
  },
  "orig_nbformat": 4,
  "vscode": {
   "interpreter": {
    "hash": "4be45cf80e2c3985c3c462608cc2c55e6280d0a3f028f45eb175b0aab3829431"
   }
  }
 },
 "nbformat": 4,
 "nbformat_minor": 2
}
